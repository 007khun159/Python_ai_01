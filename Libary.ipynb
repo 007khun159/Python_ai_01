{
  "nbformat": 4,
  "nbformat_minor": 0,
  "metadata": {
    "colab": {
      "provenance": [],
      "authorship_tag": "ABX9TyM2fx9ANy0BaJMzaPOoiwC0",
      "include_colab_link": true
    },
    "kernelspec": {
      "name": "python3",
      "display_name": "Python 3"
    },
    "language_info": {
      "name": "python"
    }
  },
  "cells": [
    {
      "cell_type": "markdown",
      "metadata": {
        "id": "view-in-github",
        "colab_type": "text"
      },
      "source": [
        "<a href=\"https://colab.research.google.com/github/007khun159/Python_ai_01/blob/main/Libary.ipynb\" target=\"_parent\"><img src=\"https://colab.research.google.com/assets/colab-badge.svg\" alt=\"Open In Colab\"/></a>"
      ]
    },
    {
      "cell_type": "code",
      "execution_count": 4,
      "metadata": {
        "colab": {
          "base_uri": "https://localhost:8080/"
        },
        "id": "yGD98ImM1hNx",
        "outputId": "1221084f-8d5e-4711-afcf-41e2f7b7fb47"
      },
      "outputs": [
        {
          "output_type": "stream",
          "name": "stdout",
          "text": [
            "3.141592653589793\n",
            "2.23606797749979\n",
            "120\n"
          ]
        }
      ],
      "source": [
        "#Math libary\n",
        "import math as m \n",
        "\n",
        "a = 5 \n",
        "print(m.pi)\n",
        "print(m.sqrt(a))\n",
        "print(m.factorial(a))"
      ]
    },
    {
      "cell_type": "code",
      "source": [
        "r = float(input(\"Enter the radian\"))\n",
        "area = m.pi*r**2\n",
        "print(area)"
      ],
      "metadata": {
        "colab": {
          "base_uri": "https://localhost:8080/"
        },
        "id": "UP4XPKjV107O",
        "outputId": "2725caee-e0d2-43e3-87fa-b255b016a4a7"
      },
      "execution_count": 5,
      "outputs": [
        {
          "output_type": "stream",
          "name": "stdout",
          "text": [
            "Enter the radian2\n",
            "12.566370614359172\n"
          ]
        }
      ]
    },
    {
      "cell_type": "code",
      "source": [
        "#Numpy libary\n",
        "\n",
        "import numpy as np\n",
        "\n",
        "x = 0\n",
        "\n",
        "print(np.sin(x))\n",
        "print(np.cos(x))\n",
        "print(np.tan(x))\n",
        "print(np.pi)\n",
        "print(np.e)"
      ],
      "metadata": {
        "colab": {
          "base_uri": "https://localhost:8080/"
        },
        "id": "cgTIOmzL2Et1",
        "outputId": "d33914a4-f3f2-4da9-f8db-70030e355703"
      },
      "execution_count": 6,
      "outputs": [
        {
          "output_type": "stream",
          "name": "stdout",
          "text": [
            "0.0\n",
            "1.0\n",
            "0.0\n",
            "3.141592653589793\n",
            "2.718281828459045\n"
          ]
        }
      ]
    },
    {
      "cell_type": "code",
      "source": [
        "x1 = np.zeros(20)\n",
        "x2 = np.ones((3,4))\n",
        "print(x1)\n",
        "print(x2)\n",
        "0"
      ],
      "metadata": {
        "colab": {
          "base_uri": "https://localhost:8080/"
        },
        "id": "gTwR1WwU2ZTd",
        "outputId": "83d5980f-3517-46b8-bd3d-e541d0a04cbf"
      },
      "execution_count": 8,
      "outputs": [
        {
          "output_type": "stream",
          "name": "stdout",
          "text": [
            "[0. 0. 0. 0. 0. 0. 0. 0. 0. 0. 0. 0. 0. 0. 0. 0. 0. 0. 0. 0.]\n",
            "[[1. 1. 1. 1.]\n",
            " [1. 1. 1. 1.]\n",
            " [1. 1. 1. 1.]]\n"
          ]
        },
        {
          "output_type": "execute_result",
          "data": {
            "text/plain": [
              "0"
            ]
          },
          "metadata": {},
          "execution_count": 8
        }
      ]
    },
    {
      "cell_type": "code",
      "source": [
        "x  = np.array([3,4,5]  )\n",
        "y = np.array([2,4,1])\n",
        "\n",
        "print(x)\n",
        "print(y)\n",
        "print(x+y)\n",
        "print(x-y)\n",
        "print(x*y)\n",
        "print(x/y)"
      ],
      "metadata": {
        "id": "uJttnO8NJQ02",
        "outputId": "47526d97-d722-40e6-c160-6be54d571480",
        "colab": {
          "base_uri": "https://localhost:8080/"
        }
      },
      "execution_count": 13,
      "outputs": [
        {
          "output_type": "stream",
          "name": "stdout",
          "text": [
            "[3 4 5]\n",
            "[2 4 1]\n",
            "[5 8 6]\n",
            "[1 0 4]\n",
            "[ 6 16  5]\n",
            "[1.5 1.  5. ]\n"
          ]
        }
      ]
    },
    {
      "cell_type": "code",
      "source": [
        "#ทำการสร้างตัวเลข \n",
        "\n",
        "x = np.arange(0,10,0.1)\n",
        "print(x)\n",
        "print('-'*90)\n",
        "print(3*x)"
      ],
      "metadata": {
        "id": "QiXa7EVNKV29",
        "outputId": "fee52575-8805-43c4-90a7-6c9001d76e89",
        "colab": {
          "base_uri": "https://localhost:8080/"
        }
      },
      "execution_count": 21,
      "outputs": [
        {
          "output_type": "stream",
          "name": "stdout",
          "text": [
            "[0.  0.1 0.2 0.3 0.4 0.5 0.6 0.7 0.8 0.9 1.  1.1 1.2 1.3 1.4 1.5 1.6 1.7\n",
            " 1.8 1.9 2.  2.1 2.2 2.3 2.4 2.5 2.6 2.7 2.8 2.9 3.  3.1 3.2 3.3 3.4 3.5\n",
            " 3.6 3.7 3.8 3.9 4.  4.1 4.2 4.3 4.4 4.5 4.6 4.7 4.8 4.9 5.  5.1 5.2 5.3\n",
            " 5.4 5.5 5.6 5.7 5.8 5.9 6.  6.1 6.2 6.3 6.4 6.5 6.6 6.7 6.8 6.9 7.  7.1\n",
            " 7.2 7.3 7.4 7.5 7.6 7.7 7.8 7.9 8.  8.1 8.2 8.3 8.4 8.5 8.6 8.7 8.8 8.9\n",
            " 9.  9.1 9.2 9.3 9.4 9.5 9.6 9.7 9.8 9.9]\n",
            "------------------------------------------------------------------------------------------\n",
            "[ 0.   0.3  0.6  0.9  1.2  1.5  1.8  2.1  2.4  2.7  3.   3.3  3.6  3.9\n",
            "  4.2  4.5  4.8  5.1  5.4  5.7  6.   6.3  6.6  6.9  7.2  7.5  7.8  8.1\n",
            "  8.4  8.7  9.   9.3  9.6  9.9 10.2 10.5 10.8 11.1 11.4 11.7 12.  12.3\n",
            " 12.6 12.9 13.2 13.5 13.8 14.1 14.4 14.7 15.  15.3 15.6 15.9 16.2 16.5\n",
            " 16.8 17.1 17.4 17.7 18.  18.3 18.6 18.9 19.2 19.5 19.8 20.1 20.4 20.7\n",
            " 21.  21.3 21.6 21.9 22.2 22.5 22.8 23.1 23.4 23.7 24.  24.3 24.6 24.9\n",
            " 25.2 25.5 25.8 26.1 26.4 26.7 27.  27.3 27.6 27.9 28.2 28.5 28.8 29.1\n",
            " 29.4 29.7]\n"
          ]
        }
      ]
    },
    {
      "cell_type": "code",
      "source": [
        "x = np.arange(0,2*np.pi,np.pi/6)\n",
        "print(x)\n",
        "print('-'*60)\n",
        "print(np.sin(x))"
      ],
      "metadata": {
        "id": "Z8QPZDa5Kvi_",
        "outputId": "90b9d659-0d33-4745-946e-19fcf4cb5ead",
        "colab": {
          "base_uri": "https://localhost:8080/"
        }
      },
      "execution_count": 25,
      "outputs": [
        {
          "output_type": "stream",
          "name": "stdout",
          "text": [
            "[0.         0.52359878 1.04719755 1.57079633 2.0943951  2.61799388\n",
            " 3.14159265 3.66519143 4.1887902  4.71238898 5.23598776 5.75958653]\n",
            "------------------------------------------------------------\n",
            "[ 0.00000000e+00  5.00000000e-01  8.66025404e-01  1.00000000e+00\n",
            "  8.66025404e-01  5.00000000e-01  1.22464680e-16 -5.00000000e-01\n",
            " -8.66025404e-01 -1.00000000e+00 -8.66025404e-01 -5.00000000e-01]\n"
          ]
        }
      ]
    }
  ]
}