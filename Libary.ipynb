{
  "nbformat": 4,
  "nbformat_minor": 0,
  "metadata": {
    "colab": {
      "provenance": [],
      "authorship_tag": "ABX9TyN8/JUXzgZdXbcJJh+gkLN9",
      "include_colab_link": true
    },
    "kernelspec": {
      "name": "python3",
      "display_name": "Python 3"
    },
    "language_info": {
      "name": "python"
    }
  },
  "cells": [
    {
      "cell_type": "markdown",
      "metadata": {
        "id": "view-in-github",
        "colab_type": "text"
      },
      "source": [
        "<a href=\"https://colab.research.google.com/github/007khun159/Python_ai_01/blob/main/Libary.ipynb\" target=\"_parent\"><img src=\"https://colab.research.google.com/assets/colab-badge.svg\" alt=\"Open In Colab\"/></a>"
      ]
    },
    {
      "cell_type": "code",
      "execution_count": 1,
      "metadata": {
        "colab": {
          "base_uri": "https://localhost:8080/"
        },
        "id": "yGD98ImM1hNx",
        "outputId": "b840b3f1-83e6-45f9-b98c-2fa65885c264"
      },
      "outputs": [
        {
          "output_type": "stream",
          "name": "stdout",
          "text": [
            "3.141592653589793\n",
            "2.23606797749979\n",
            "120\n"
          ]
        }
      ],
      "source": [
        "#Math libary\n",
        "import math as m \n",
        "\n",
        "a = 5 \n",
        "print(m.pi)\n",
        "print(m.sqrt(a))\n",
        "print(m.factorial(a))"
      ]
    },
    {
      "cell_type": "code",
      "source": [
        "r = float(input(\"Enter the radian\"))\n",
        "area = m.pi*r**2\n",
        "print(area)"
      ],
      "metadata": {
        "colab": {
          "base_uri": "https://localhost:8080/"
        },
        "id": "UP4XPKjV107O",
        "outputId": "da02416c-1925-4648-95be-99f8e752aa86"
      },
      "execution_count": 2,
      "outputs": [
        {
          "output_type": "stream",
          "name": "stdout",
          "text": [
            "Enter the radian200\n",
            "125663.70614359173\n"
          ]
        }
      ]
    },
    {
      "cell_type": "code",
      "source": [
        "#Numpy libary\n",
        "\n",
        "import numpy as np\n",
        "\n",
        "x = 0\n",
        "\n",
        "print(np.sin(x))\n",
        "print(np.cos(x))\n",
        "print(np.tan(x))\n",
        "print(np.pi)\n",
        "print(np.e)"
      ],
      "metadata": {
        "colab": {
          "base_uri": "https://localhost:8080/"
        },
        "id": "cgTIOmzL2Et1",
        "outputId": "7f407945-0c06-4c3a-8f6c-874707611fb8"
      },
      "execution_count": 7,
      "outputs": [
        {
          "output_type": "stream",
          "name": "stdout",
          "text": [
            "0.0\n",
            "1.0\n",
            "0.0\n",
            "3.141592653589793\n",
            "2.718281828459045\n"
          ]
        }
      ]
    },
    {
      "cell_type": "code",
      "source": [
        "x1 = np.zeros(20)\n",
        "x2 = np.ones((3,4))\n",
        "print(x1)+456\n",
        "print(x2)\n",
        "0"
      ],
      "metadata": {
        "colab": {
          "base_uri": "https://localhost:8080/"
        },
        "id": "gTwR1WwU2ZTd",
        "outputId": "1422fdb0-ca8e-41c7-ed79-25304c856d93"
      },
      "execution_count": 12,
      "outputs": [
        {
          "output_type": "stream",
          "name": "stdout",
          "text": [
            "[0. 0. 0. 0. 0. 0. 0. 0. 0. 0. 0. 0. 0. 0. 0. 0. 0. 0. 0. 0.]\n",
            "[[1. 1. 1. 1.]\n",
            " [1. 1. 1. 1.]\n",
            " [1. 1. 1. 1.]]\n"
          ]
        }
      ]
    }
  ]
}