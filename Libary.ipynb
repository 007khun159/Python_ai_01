{
  "nbformat": 4,
  "nbformat_minor": 0,
  "metadata": {
    "colab": {
      "provenance": [],
      "authorship_tag": "ABX9TyPi+ZcG7BYFs5kOHnerSXMu",
      "include_colab_link": true
    },
    "kernelspec": {
      "name": "python3",
      "display_name": "Python 3"
    },
    "language_info": {
      "name": "python"
    }
  },
  "cells": [
    {
      "cell_type": "markdown",
      "metadata": {
        "id": "view-in-github",
        "colab_type": "text"
      },
      "source": [
        "<a href=\"https://colab.research.google.com/github/007khun159/Python_ai_01/blob/main/Libary.ipynb\" target=\"_parent\"><img src=\"https://colab.research.google.com/assets/colab-badge.svg\" alt=\"Open In Colab\"/></a>"
      ]
    },
    {
      "cell_type": "code",
      "execution_count": null,
      "metadata": {
        "colab": {
          "base_uri": "https://localhost:8080/"
        },
        "id": "yGD98ImM1hNx",
        "outputId": "f57b1bc2-9885-46e0-8ddd-915b87980f3f"
      },
      "outputs": [
        {
          "output_type": "stream",
          "name": "stdout",
          "text": [
            "3.141592653589793\n",
            "2.23606797749979\n",
            "120\n"
          ]
        }
      ],
      "source": [
        "#Math libary\n",
        "import math as m \n",
        "\n",
        "a = 5 \n",
        "print(m.pi)\n",
        "print(m.sqrt(a))\n",
        "print(m.factorial(a))"
      ]
    },
    {
      "cell_type": "code",
      "source": [
        "r = float(input(\"Enter the radian\"))\n",
        "area = m.pi*r**2\n",
        "print(area)"
      ],
      "metadata": {
        "colab": {
          "base_uri": "https://localhost:8080/"
        },
        "id": "UP4XPKjV107O",
        "outputId": "582ea049-8151-4c3c-a1dc-4b0b2281913b"
      },
      "execution_count": null,
      "outputs": [
        {
          "output_type": "stream",
          "name": "stdout",
          "text": [
            "Enter the radian5\n",
            "78.53981633974483\n"
          ]
        }
      ]
    },
    {
      "cell_type": "code",
      "source": [
        "#Numpy libary\n",
        "\n",
        "import numpy as np\n",
        "\n",
        "x = 0\n",
        "\n",
        "print(np.sin(x))\n",
        "print(np.cos(x))\n",
        "print(np.tan(x))\n",
        "print(np.pi)\n",
        "print(np.e)"
      ],
      "metadata": {
        "colab": {
          "base_uri": "https://localhost:8080/"
        },
        "id": "cgTIOmzL2Et1",
        "outputId": "2226469f-a02b-4fa1-cd57-35a1f1420274"
      },
      "execution_count": null,
      "outputs": [
        {
          "output_type": "stream",
          "name": "stdout",
          "text": [
            "0.0\n",
            "1.0\n",
            "0.0\n",
            "3.141592653589793\n",
            "2.718281828459045\n"
          ]
        }
      ]
    },
    {
      "cell_type": "code",
      "source": [
        "x1 = np.zeros(20)\n",
        "x2 = np.ones((3,4))\n",
        "print(x1)\n",
        "print(x2)\n",
        "0"
      ],
      "metadata": {
        "colab": {
          "base_uri": "https://localhost:8080/"
        },
        "id": "gTwR1WwU2ZTd",
        "outputId": "07fc1ad6-a527-4164-bfa0-b20fda66fcd0"
      },
      "execution_count": null,
      "outputs": [
        {
          "output_type": "stream",
          "name": "stdout",
          "text": [
            "[0. 0. 0. 0. 0. 0. 0. 0. 0. 0. 0. 0. 0. 0. 0. 0. 0. 0. 0. 0.]\n",
            "[[1. 1. 1. 1.]\n",
            " [1. 1. 1. 1.]\n",
            " [1. 1. 1. 1.]]\n"
          ]
        },
        {
          "output_type": "execute_result",
          "data": {
            "text/plain": [
              "0"
            ]
          },
          "metadata": {},
          "execution_count": 4
        }
      ]
    },
    {
      "cell_type": "code",
      "source": [
        "x  = np.array([3,4,5]  )\n",
        "y = np.array([2,4,1])\n",
        "\n",
        "print(x)\n",
        "print(y)\n",
        "print(x+y)\n",
        "print(x-y)\n",
        "print(x*y)\n",
        "print(x/y)"
      ],
      "metadata": {
        "id": "uJttnO8NJQ02",
        "outputId": "8620f87f-1c83-467f-e6a8-9e8f0a5c48a4",
        "colab": {
          "base_uri": "https://localhost:8080/"
        }
      },
      "execution_count": null,
      "outputs": [
        {
          "output_type": "stream",
          "name": "stdout",
          "text": [
            "[3 4 5]\n",
            "[2 4 1]\n",
            "[5 8 6]\n",
            "[1 0 4]\n",
            "[ 6 16  5]\n",
            "[1.5 1.  5. ]\n"
          ]
        }
      ]
    },
    {
      "cell_type": "code",
      "source": [
        "#ทำการสร้างตัวเลข \n",
        "# arangae คือการสร้างตัวเลข \n",
        "x = np.arange(0,10,0.1)\n",
        "\n",
        "\n",
        "# ช่วง 0 ถึง 10  และเพิ่มทีละ 0.1\n",
        "print(x)\n",
        "print('-'*90)\n",
        "print(3*x)"
      ],
      "metadata": {
        "id": "QiXa7EVNKV29",
        "outputId": "09c41354-af49-449c-9283-5ad77716ceef",
        "colab": {
          "base_uri": "https://localhost:8080/"
        }
      },
      "execution_count": null,
      "outputs": [
        {
          "output_type": "stream",
          "name": "stdout",
          "text": [
            "[0.  0.1 0.2 0.3 0.4 0.5 0.6 0.7 0.8 0.9 1.  1.1 1.2 1.3 1.4 1.5 1.6 1.7\n",
            " 1.8 1.9 2.  2.1 2.2 2.3 2.4 2.5 2.6 2.7 2.8 2.9 3.  3.1 3.2 3.3 3.4 3.5\n",
            " 3.6 3.7 3.8 3.9 4.  4.1 4.2 4.3 4.4 4.5 4.6 4.7 4.8 4.9 5.  5.1 5.2 5.3\n",
            " 5.4 5.5 5.6 5.7 5.8 5.9 6.  6.1 6.2 6.3 6.4 6.5 6.6 6.7 6.8 6.9 7.  7.1\n",
            " 7.2 7.3 7.4 7.5 7.6 7.7 7.8 7.9 8.  8.1 8.2 8.3 8.4 8.5 8.6 8.7 8.8 8.9\n",
            " 9.  9.1 9.2 9.3 9.4 9.5 9.6 9.7 9.8 9.9]\n",
            "------------------------------------------------------------------------------------------\n",
            "[ 0.   0.3  0.6  0.9  1.2  1.5  1.8  2.1  2.4  2.7  3.   3.3  3.6  3.9\n",
            "  4.2  4.5  4.8  5.1  5.4  5.7  6.   6.3  6.6  6.9  7.2  7.5  7.8  8.1\n",
            "  8.4  8.7  9.   9.3  9.6  9.9 10.2 10.5 10.8 11.1 11.4 11.7 12.  12.3\n",
            " 12.6 12.9 13.2 13.5 13.8 14.1 14.4 14.7 15.  15.3 15.6 15.9 16.2 16.5\n",
            " 16.8 17.1 17.4 17.7 18.  18.3 18.6 18.9 19.2 19.5 19.8 20.1 20.4 20.7\n",
            " 21.  21.3 21.6 21.9 22.2 22.5 22.8 23.1 23.4 23.7 24.  24.3 24.6 24.9\n",
            " 25.2 25.5 25.8 26.1 26.4 26.7 27.  27.3 27.6 27.9 28.2 28.5 28.8 29.1\n",
            " 29.4 29.7]\n"
          ]
        }
      ]
    },
    {
      "cell_type": "code",
      "source": [
        "x = np.arange(0,2*np.pi,np.pi/6)\n",
        "print(x)\n",
        "print('-'*60)\n",
        "print(np.sin(x))"
      ],
      "metadata": {
        "id": "Z8QPZDa5Kvi_",
        "outputId": "99ffd394-de57-45ea-b385-32b9189f797e",
        "colab": {
          "base_uri": "https://localhost:8080/"
        }
      },
      "execution_count": null,
      "outputs": [
        {
          "output_type": "stream",
          "name": "stdout",
          "text": [
            "[0.         0.52359878 1.04719755 1.57079633 2.0943951  2.61799388\n",
            " 3.14159265 3.66519143 4.1887902  4.71238898 5.23598776 5.75958653]\n",
            "------------------------------------------------------------\n",
            "[ 0.00000000e+00  5.00000000e-01  8.66025404e-01  1.00000000e+00\n",
            "  8.66025404e-01  5.00000000e-01  1.22464680e-16 -5.00000000e-01\n",
            " -8.66025404e-01 -1.00000000e+00 -8.66025404e-01 -5.00000000e-01]\n"
          ]
        }
      ]
    },
    {
      "cell_type": "code",
      "source": [
        "#update 10/1/2023"
      ],
      "metadata": {
        "id": "XDMCWb60zPX9"
      },
      "execution_count": null,
      "outputs": []
    }
  ]
}