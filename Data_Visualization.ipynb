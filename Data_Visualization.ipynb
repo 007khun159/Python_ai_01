{
  "nbformat": 4,
  "nbformat_minor": 0,
  "metadata": {
    "colab": {
      "provenance": [],
      "authorship_tag": "ABX9TyOAa8zZxSyoDfanXSdBYJ3F",
      "include_colab_link": true
    },
    "kernelspec": {
      "name": "python3",
      "display_name": "Python 3"
    },
    "language_info": {
      "name": "python"
    }
  },
  "cells": [
    {
      "cell_type": "markdown",
      "metadata": {
        "id": "view-in-github",
        "colab_type": "text"
      },
      "source": [
        "<a href=\"https://colab.research.google.com/github/007khun159/Python_ai_01/blob/main/Data_Visualization.ipynb\" target=\"_parent\"><img src=\"https://colab.research.google.com/assets/colab-badge.svg\" alt=\"Open In Colab\"/></a>"
      ]
    },
    {
      "cell_type": "code",
      "execution_count": 1,
      "metadata": {
        "id": "RprvdTJ1XNP4"
      },
      "outputs": [],
      "source": [
        "# Libary ที่ต้องใช้นั้นมี 2 ตัวหลักๆ \n",
        "\n",
        "\n",
        "# 1. Matplotlib   ใช้ในการแสดงข้อมูลแบบ   scatterplot, lineplot , barchart or else \n",
        "# 2. Seaborn   , Box plot , Violin Plot\n",
        "\n",
        "# ในการแสดงข้อมูลด้วยภาพนั้นจะทำให้คนเข้าใจได้ง่ายยิ่งขึ้น\n",
        "\n",
        "#Matplotlib   \n",
        "# 1. Scatter plot การplot แบบจุดใช้ดูการ กระจายตัวของข้อมูล\n",
        "# 2. Scatter plot แบบที่2   ใช้ดูการเกาะกลุ่มของข้อมูลที่มีมากกว่า 2 ประ เภท\n",
        "# 3. Lineplot  ใช้ดูแนวโน้มของข้อมูลเช่น หุ้น หรือ ราคาสินค้า\n",
        "# 4. Barchart ใช้ในการจำแนกปริมาณและหมวดหมู่ตามค่าสถิติและหาความต่างกัน \n",
        "# 5. Pie chart กราฟวงกลมที่มีการแบ่งและเปรียบเทียบ\n",
        "\n",
        "\n",
        "# Seaborn  ใช้งานเหมือนกับ matplotlib\n",
        "# 1. Boxplot ค่าเบียงเบนมาตราฐาน  ผ่านค่า Quartile  Q1,Q2,Q3\n",
        "# 2. Violin Plot  มีลักษณะคล้าย boxplot  ใช้แสดงการกระจายตัวของข้อมูล\n"
      ]
    },
    {
      "cell_type": "markdown",
      "source": [
        "# Scatter Plot1 :ราคา และ อายุรถยนต์ "
      ],
      "metadata": {
        "id": "rbXyjruHajRC"
      }
    },
    {
      "cell_type": "markdown",
      "source": [],
      "metadata": {
        "id": "T10AzQK1doEf"
      }
    },
    {
      "cell_type": "code",
      "source": [
        "import matplotlib.pyplot as plt\n",
        " \n",
        "\n",
        "#ข้อมูลต่างๆ \n",
        "price = [800,500,450,430,300,80,780,280,530,200,180,250,490]\n",
        "age = [2,5,7,7,8,17,2,9,4,11,12,9,6]\n",
        "\n",
        "\n",
        "\n",
        "#ทำการ plot ค่าภายในออกมา  \n",
        "\n",
        "plt.scatter(price , age)\n",
        "plt.xlabel('Price x 1000 (Bath)')\n",
        "plt.ylabel('Age of Car  (year) ')\n",
        "plt.title('Age of car vs Price')\n",
        "plt.show()"
      ],
      "metadata": {
        "colab": {
          "base_uri": "https://localhost:8080/",
          "height": 295
        },
        "id": "OutImui6X5Bz",
        "outputId": "a9e0460d-d9cd-4906-dbc3-fd15557c47e5"
      },
      "execution_count": 2,
      "outputs": [
        {
          "output_type": "display_data",
          "data": {
            "text/plain": [
              "<Figure size 432x288 with 1 Axes>"
            ],
            "image/png": "[encoded data removed]"
          },
          "metadata": {
            "needs_background": "light"
          }
        }
      ]
    },
    {
      "cell_type": "markdown",
      "source": [
        "# Scatter plot(2) แบบมีข้อมูลจำแนก\n"
      ],
      "metadata": {
        "id": "YmnHwSTXc1ao"
      }
    },
    {
      "cell_type": "code",
      "source": [
        "import matplotlib.pyplot as plt\n",
        "  \n",
        "\n",
        "\n",
        "#นำเข้าข้อมูลคะแนนสอบของทั้ง 2 เพศ\n",
        "\n",
        "score_girls = [35,72,79,80,89,90,90,90,100,100]\n",
        "score_boys = [23,28,30,30,40,46,48,49,49,100] \n",
        "score_range = [10,20,30,40,50,60,70,80,90,100]\n",
        "\n",
        "\n",
        "# ทำการ plot ข้อมูลแบบ scatter  พร้อมกำหนดสีต่างๆภายในค่า \n",
        "\n",
        "plt.figure()\n",
        "plt.scatter(score_range , score_girls,color='r')\n",
        "plt.scatter(score_range , score_boys,color='b')\n",
        "plt.xlabel('Range')\n",
        "plt.ylabel('Score')\n",
        "plt.legend(labels=['Girls','Boys'])\n",
        "plt.show()"
      ],
      "metadata": {
        "colab": {
          "base_uri": "https://localhost:8080/",
          "height": 279
        },
        "id": "_s6niERPbu67",
        "outputId": "e7d6363b-7777-4f1c-9803-72ec6a94d19a"
      },
      "execution_count": 3,
      "outputs": [
        {
          "output_type": "display_data",
          "data": {
            "text/plain": [
              "<Figure size 432x288 with 1 Axes>"
            ],
            "image/png": "[encoded data removed]"
          },
          "metadata": {
            "needs_background": "light"
          }
        }
      ]
    },
    {
      "cell_type": "markdown",
      "source": [
        "# Line plot : ราคา และ อายุรถยนต์"
      ],
      "metadata": {
        "id": "LWOsurwgc_1A"
      }
    },
    {
      "cell_type": "code",
      "source": [
        "import matplotlib.pyplot as plt\n",
        "\n",
        "\n",
        "#ข้อมูลต่างๆ \n",
        "price = [800,500,450,430,300,80,780,280,530,200,180,250,490]\n",
        "age = [2,5,7,7,8,17,2,9,4,11,12,9,6]\n",
        "\n",
        "\n",
        "#จัดเรียงลำดับของข้อมูล"
      ],
      "metadata": {
        "id": "B3BSSpU-c_Co"
      },
      "execution_count": null,
      "outputs": []
    }
  ]
}