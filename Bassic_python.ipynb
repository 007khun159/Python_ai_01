{
  "nbformat": 4,
  "nbformat_minor": 0,
  "metadata": {
    "colab": {
      "provenance": [],
      "authorship_tag": "ABX9TyOh11F1KdfGmQS5Ps7QAwJS",
      "include_colab_link": true
    },
    "kernelspec": {
      "name": "python3",
      "display_name": "Python 3"
    },
    "language_info": {
      "name": "python"
    }
  },
  "cells": [
    {
      "cell_type": "markdown",
      "metadata": {
        "id": "view-in-github",
        "colab_type": "text"
      },
      "source": [
        "<a href=\"https://colab.research.google.com/github/007khun159/Python_ai_01/blob/main/Bassic_python.ipynb\" target=\"_parent\"><img src=\"https://colab.research.google.com/assets/colab-badge.svg\" alt=\"Open In Colab\"/></a>"
      ]
    },
    {
      "cell_type": "code",
      "execution_count": 1,
      "metadata": {
        "colab": {
          "base_uri": "https://localhost:8080/"
        },
        "id": "q2O2O7s7u7vB",
        "outputId": "e7e8ecf5-b744-4108-d2cb-d576ab77f36d"
      },
      "outputs": [
        {
          "output_type": "stream",
          "name": "stdout",
          "text": [
            "3\n",
            "3.6\n",
            "I am Learing python\n"
          ]
        }
      ],
      "source": [
        "#Bassic   \n",
        "\n",
        "x = 3 \n",
        "y = 3.6\n",
        "z = \"I am Learing python\"\n",
        "print(x)\n",
        "print(y)\n",
        "print(z)"
      ]
    },
    {
      "cell_type": "code",
      "source": [
        "x =3 \n",
        "y= 5 \n",
        "z= 2 \n",
        "print(x*y**z+x)"
      ],
      "metadata": {
        "colab": {
          "base_uri": "https://localhost:8080/"
        },
        "id": "NnFaaXzlv168",
        "outputId": "b8cf64c1-d008-4327-9d8a-0368592706ee"
      },
      "execution_count": 2,
      "outputs": [
        {
          "output_type": "stream",
          "name": "stdout",
          "text": [
            "78\n"
          ]
        }
      ]
    },
    {
      "cell_type": "code",
      "source": [
        "x = list(range(70,0,-5))\n",
        "print(len(x))\n",
        "print(x)\n",
        "j = x[5]\n",
        "print(j)"
      ],
      "metadata": {
        "colab": {
          "base_uri": "https://localhost:8080/"
        },
        "id": "Oesc3F3WxCsk",
        "outputId": "5c9c9d7a-343b-4c71-e2e0-57f1ba377873"
      },
      "execution_count": 13,
      "outputs": [
        {
          "output_type": "stream",
          "name": "stdout",
          "text": [
            "14\n",
            "[70, 65, 60, 55, 50, 45, 40, 35, 30, 25, 20, 15, 10, 5]\n",
            "45\n"
          ]
        }
      ]
    },
    {
      "cell_type": "code",
      "source": [
        "N = float( input(\"Enter Int : \") )\n",
        "for i in range( 0, 5 ):\n",
        "  N = 0.5*N\n",
        "  print(N)\n",
        "print( N )"
      ],
      "metadata": {
        "colab": {
          "base_uri": "https://localhost:8080/"
        },
        "id": "SpxUT8ikycQl",
        "outputId": "7843d8ac-7dad-4499-d7d8-5304b77a0821"
      },
      "execution_count": 27,
      "outputs": [
        {
          "output_type": "stream",
          "name": "stdout",
          "text": [
            "Enter Int : 2000\n",
            "1000.0\n",
            "500.0\n",
            "250.0\n",
            "125.0\n",
            "62.5\n",
            "62.5\n"
          ]
        }
      ]
    },
    {
      "cell_type": "code",
      "source": [
        "class Person :\n",
        "  def __init__(self, name , age):\n",
        "    self.name = name\n",
        "    self.age = age\n",
        "\n",
        "\n",
        "  def myfunc(self):\n",
        "    print(\"Hello\" , self.name)\n",
        "\n",
        "  def newage(self):\n",
        "    print(\"Your new age is \" , self.age + 20)\n",
        "\n",
        "p1 = Person(\"james\",21)\n",
        "p1.myfunc()\n",
        "p1.newage()"
      ],
      "metadata": {
        "colab": {
          "base_uri": "https://localhost:8080/"
        },
        "id": "krkfJxMyzROk",
        "outputId": "3f98944d-1bbe-49b5-a25e-c8f70b0568cb"
      },
      "execution_count": 23,
      "outputs": [
        {
          "output_type": "stream",
          "name": "stdout",
          "text": [
            "Hello james\n",
            "Your new age is  41\n"
          ]
        }
      ]
    }
  ]
}